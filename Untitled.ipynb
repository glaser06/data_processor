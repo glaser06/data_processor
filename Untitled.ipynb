{
 "cells": [
  {
   "cell_type": "code",
   "execution_count": 3,
   "metadata": {},
   "outputs": [],
   "source": [
    "import number_cruncher\n",
    "from number_cruncher import *\n",
    "import numpy as np"
   ]
  },
  {
   "cell_type": "code",
   "execution_count": 4,
   "metadata": {},
   "outputs": [],
   "source": [
    "c = Cruncher()\n"
   ]
  },
  {
   "cell_type": "code",
   "execution_count": 5,
   "metadata": {},
   "outputs": [
    {
     "name": "stderr",
     "output_type": "stream",
     "text": [
      "/Users/trusttokenengineer/.local/share/virtualenvs/data_processor-QHrysoZ5/lib/python3.7/site-packages/urllib3/connectionpool.py:857: InsecureRequestWarning: Unverified HTTPS request is being made. Adding certificate verification is strongly advised. See: https://urllib3.readthedocs.io/en/latest/advanced-usage.html#ssl-warnings\n",
      "  InsecureRequestWarning)\n",
      "/Users/trusttokenengineer/.local/share/virtualenvs/data_processor-QHrysoZ5/lib/python3.7/site-packages/urllib3/connectionpool.py:857: InsecureRequestWarning: Unverified HTTPS request is being made. Adding certificate verification is strongly advised. See: https://urllib3.readthedocs.io/en/latest/advanced-usage.html#ssl-warnings\n",
      "  InsecureRequestWarning)\n"
     ]
    }
   ],
   "source": [
    "btc_price, usdt_price = load_prices()\n",
    "# print(dir(number_cruncher))"
   ]
  },
  {
   "cell_type": "code",
   "execution_count": 70,
   "metadata": {},
   "outputs": [],
   "source": [
    "def stability1(btc_price, usdt_price, process_rows=None):\n",
    "    binance_btc_key= 'binance.TUSD/BTC.OHLCV5M'\n",
    "    binance_usdt_key = 'binance.TUSD/USDT.OHLCV5M'\n",
    "    bittrex_btc_key = 'bittrex.TUSD/BTC.OHLCV5M'\n",
    "\n",
    "    # print(btc_price.index[0])\n",
    "    exchanges = []\n",
    "    tusdbtc_keys = [binance_btc_key, bittrex_btc_key]\n",
    "    tusdusdt_keys = [binance_usdt_key]\n",
    "    print('start loops')\n",
    "    for key_sets in [tusdbtc_keys,\n",
    "    tusdusdt_keys]:\n",
    "        frames = []\n",
    "        for key in key_sets:\n",
    "            frame = pd_cli.query('select * from \"{}\" order by asc limit 5000 offset 0 '.format(key))\n",
    "            frame = frame[key]\n",
    "#             print(frame)\n",
    "            frame['price'] = frame['high']/3 + frame['low']/3 + frame['close']/3\n",
    "            frames.append(frame)\n",
    "\n",
    "#         frames += [btc_price, usdt_price]\n",
    "        res = pd.concat(frames, sort=True).sort_index()\n",
    "        res = pd.merge_asof(res, btc_price, left_index=True, right_index=True, direction='backward')\n",
    "#         res['btc_price'] = res['btc_price'].fillna(method='ffill')\n",
    "#         print(res.head())\n",
    "        return res\n",
    "\n",
    "\n",
    "    markets = []\n",
    "    key = binance_btc_key\n",
    "    # a =\n",
    "    prices = []\n",
    "    # print(type(a[key]))\n",
    "    # print(a[key])\n",
    "\n",
    "    std = np.std(prices)\n",
    "    print(std)\n"
   ]
  },
  {
   "cell_type": "code",
   "execution_count": null,
   "metadata": {},
   "outputs": [],
   "source": []
  },
  {
   "cell_type": "code",
   "execution_count": 71,
   "metadata": {},
   "outputs": [
    {
     "name": "stdout",
     "output_type": "stream",
     "text": [
      "start loops\n"
     ]
    },
    {
     "name": "stderr",
     "output_type": "stream",
     "text": [
      "/Users/trusttokenengineer/.local/share/virtualenvs/data_processor-QHrysoZ5/lib/python3.7/site-packages/urllib3/connectionpool.py:857: InsecureRequestWarning: Unverified HTTPS request is being made. Adding certificate verification is strongly advised. See: https://urllib3.readthedocs.io/en/latest/advanced-usage.html#ssl-warnings\n",
      "  InsecureRequestWarning)\n",
      "/Users/trusttokenengineer/.local/share/virtualenvs/data_processor-QHrysoZ5/lib/python3.7/site-packages/urllib3/connectionpool.py:857: InsecureRequestWarning: Unverified HTTPS request is being made. Adding certificate verification is strongly advised. See: https://urllib3.readthedocs.io/en/latest/advanced-usage.html#ssl-warnings\n",
      "  InsecureRequestWarning)\n"
     ]
    }
   ],
   "source": [
    "a = stability1(btc_price, usdt_price)"
   ]
  },
  {
   "cell_type": "code",
   "execution_count": 72,
   "metadata": {},
   "outputs": [
    {
     "name": "stdout",
     "output_type": "stream",
     "text": [
      "                              close      high   id       low      open  \\\n",
      "2018-10-01 15:57:00+00:00  0.000153  0.000153  495  0.000153  0.000153   \n",
      "2018-10-01 15:58:00+00:00  0.000153  0.000153  496  0.000153  0.000153   \n",
      "2018-10-01 15:59:00+00:00  0.000153  0.000153  497  0.000153  0.000153   \n",
      "2018-10-01 16:00:00+00:00  0.000153  0.000153  498  0.000153  0.000153   \n",
      "2018-10-01 16:01:00+00:00  0.000153  0.000153  499  0.000153  0.000153   \n",
      "\n",
      "                              price      timestamp    timestamp_1     vol  \\\n",
      "2018-10-01 15:57:00+00:00  0.000153  1538434620000  1538434620000  1443.0   \n",
      "2018-10-01 15:58:00+00:00  0.000153  1538434680000  1538434680000   451.0   \n",
      "2018-10-01 15:59:00+00:00  0.000153  1538434740000  1538434740000     0.0   \n",
      "2018-10-01 16:00:00+00:00  0.000153  1538434800000  1538434800000   732.0   \n",
      "2018-10-01 16:01:00+00:00  0.000153  1538434860000  1538434860000     0.0   \n",
      "\n",
      "                           value  btc_price  \n",
      "2018-10-01 15:57:00+00:00    NaN        NaN  \n",
      "2018-10-01 15:58:00+00:00    NaN        NaN  \n",
      "2018-10-01 15:59:00+00:00    NaN        NaN  \n",
      "2018-10-01 16:00:00+00:00    NaN        NaN  \n",
      "2018-10-01 16:01:00+00:00    NaN        NaN  \n"
     ]
    }
   ],
   "source": [
    "print(a.tail())"
   ]
  },
  {
   "cell_type": "code",
   "execution_count": 18,
   "metadata": {},
   "outputs": [
    {
     "name": "stdout",
     "output_type": "stream",
     "text": [
      "                             btc_price  close  high   id  low  open  price  \\\n",
      "2018-10-02 04:34:50+00:00  6575.653394    NaN   NaN  NaN  NaN   NaN    NaN   \n",
      "2018-10-02 04:34:51+00:00  6575.653394    NaN   NaN  NaN  NaN   NaN    NaN   \n",
      "2018-10-02 04:34:52+00:00  6575.480786    NaN   NaN  NaN  NaN   NaN    NaN   \n",
      "2018-10-02 04:34:53+00:00  6575.394646    NaN   NaN  NaN  NaN   NaN    NaN   \n",
      "2018-10-02 04:34:54+00:00  6575.351576    NaN   NaN  NaN  NaN   NaN    NaN   \n",
      "2018-10-02 04:34:55+00:00  6575.653394    NaN   NaN  NaN  NaN   NaN    NaN   \n",
      "2018-10-02 04:34:56+00:00  6575.653394    NaN   NaN  NaN  NaN   NaN    NaN   \n",
      "2018-10-02 04:34:57+00:00  6575.653394    NaN   NaN  NaN  NaN   NaN    NaN   \n",
      "2018-10-02 04:34:58+00:00  6575.653394    NaN   NaN  NaN  NaN   NaN    NaN   \n",
      "2018-10-02 04:34:59+00:00  6575.653394    NaN   NaN  NaN  NaN   NaN    NaN   \n",
      "2018-10-02 04:35:00+00:00  6575.653394    NaN   NaN  NaN  NaN   NaN    NaN   \n",
      "2018-10-02 04:35:01+00:00  6575.653394    NaN   NaN  NaN  NaN   NaN    NaN   \n",
      "2018-10-02 04:35:02+00:00  6575.653394    NaN   NaN  NaN  NaN   NaN    NaN   \n",
      "2018-10-02 04:35:03+00:00  6575.308361    NaN   NaN  NaN  NaN   NaN    NaN   \n",
      "2018-10-02 04:35:04+00:00  6575.308433    NaN   NaN  NaN  NaN   NaN    NaN   \n",
      "2018-10-02 04:35:05+00:00  6575.308433    NaN   NaN  NaN  NaN   NaN    NaN   \n",
      "2018-10-02 04:35:06+00:00  6575.308487    NaN   NaN  NaN  NaN   NaN    NaN   \n",
      "2018-10-02 04:35:07+00:00  6575.308501    NaN   NaN  NaN  NaN   NaN    NaN   \n",
      "2018-10-02 04:35:08+00:00  6575.483064    NaN   NaN  NaN  NaN   NaN    NaN   \n",
      "2018-10-02 04:35:09+00:00  6575.570346    NaN   NaN  NaN  NaN   NaN    NaN   \n",
      "2018-10-02 04:35:10+00:00  6575.615014    NaN   NaN  NaN  NaN   NaN    NaN   \n",
      "2018-10-02 04:35:11+00:00  6575.615014    NaN   NaN  NaN  NaN   NaN    NaN   \n",
      "2018-10-02 04:35:12+00:00  6575.615014    NaN   NaN  NaN  NaN   NaN    NaN   \n",
      "2018-10-02 04:35:13+00:00  6575.654098    NaN   NaN  NaN  NaN   NaN    NaN   \n",
      "2018-10-02 04:35:14+00:00  6575.654098    NaN   NaN  NaN  NaN   NaN    NaN   \n",
      "2018-10-02 04:35:16+00:00  6575.308469    NaN   NaN  NaN  NaN   NaN    NaN   \n",
      "2018-10-02 04:35:17+00:00  6575.308469    NaN   NaN  NaN  NaN   NaN    NaN   \n",
      "2018-10-02 04:35:18+00:00  6575.308469    NaN   NaN  NaN  NaN   NaN    NaN   \n",
      "2018-10-02 04:35:19+00:00  6575.308469    NaN   NaN  NaN  NaN   NaN    NaN   \n",
      "2018-10-02 04:35:20+00:00  6575.869933    NaN   NaN  NaN  NaN   NaN    NaN   \n",
      "...                                ...    ...   ...  ...  ...   ...    ...   \n",
      "2018-10-02 18:33:25+00:00  6514.611191    NaN   NaN  NaN  NaN   NaN    NaN   \n",
      "2018-10-02 18:33:26+00:00  6514.612369    NaN   NaN  NaN  NaN   NaN    NaN   \n",
      "2018-10-02 18:33:27+00:00  6514.612121    NaN   NaN  NaN  NaN   NaN    NaN   \n",
      "2018-10-02 18:33:28+00:00  6514.612121    NaN   NaN  NaN  NaN   NaN    NaN   \n",
      "2018-10-02 18:33:29+00:00  6514.612121    NaN   NaN  NaN  NaN   NaN    NaN   \n",
      "2018-10-02 18:33:30+00:00  6514.612392    NaN   NaN  NaN  NaN   NaN    NaN   \n",
      "2018-10-02 18:33:31+00:00  6514.612392    NaN   NaN  NaN  NaN   NaN    NaN   \n",
      "2018-10-02 18:33:32+00:00  6514.612275    NaN   NaN  NaN  NaN   NaN    NaN   \n",
      "2018-10-02 18:33:33+00:00  6514.612421    NaN   NaN  NaN  NaN   NaN    NaN   \n",
      "2018-10-02 18:33:34+00:00  6514.612425    NaN   NaN  NaN  NaN   NaN    NaN   \n",
      "2018-10-02 18:33:35+00:00  6514.612428    NaN   NaN  NaN  NaN   NaN    NaN   \n",
      "2018-10-02 18:33:36+00:00  6514.612429    NaN   NaN  NaN  NaN   NaN    NaN   \n",
      "2018-10-02 18:33:37+00:00  6514.612392    NaN   NaN  NaN  NaN   NaN    NaN   \n",
      "2018-10-02 18:33:38+00:00  6514.611937    NaN   NaN  NaN  NaN   NaN    NaN   \n",
      "2018-10-02 18:33:39+00:00  6514.611937    NaN   NaN  NaN  NaN   NaN    NaN   \n",
      "2018-10-02 18:33:40+00:00  6514.611937    NaN   NaN  NaN  NaN   NaN    NaN   \n",
      "2018-10-02 18:33:41+00:00  6514.612275    NaN   NaN  NaN  NaN   NaN    NaN   \n",
      "2018-10-02 18:33:42+00:00  6514.612307    NaN   NaN  NaN  NaN   NaN    NaN   \n",
      "2018-10-02 18:33:43+00:00  6514.612307    NaN   NaN  NaN  NaN   NaN    NaN   \n",
      "2018-10-02 18:33:44+00:00  6514.612307    NaN   NaN  NaN  NaN   NaN    NaN   \n",
      "2018-10-02 18:33:45+00:00  6514.612307    NaN   NaN  NaN  NaN   NaN    NaN   \n",
      "2018-10-02 18:33:46+00:00  6514.612053    NaN   NaN  NaN  NaN   NaN    NaN   \n",
      "2018-10-02 18:33:47+00:00  6514.611257    NaN   NaN  NaN  NaN   NaN    NaN   \n",
      "2018-10-02 18:33:48+00:00  6514.611676    NaN   NaN  NaN  NaN   NaN    NaN   \n",
      "2018-10-02 18:33:49+00:00  6514.611676    NaN   NaN  NaN  NaN   NaN    NaN   \n",
      "2018-10-02 18:33:50+00:00  6514.611676    NaN   NaN  NaN  NaN   NaN    NaN   \n",
      "2018-10-02 18:33:51+00:00  6514.633496    NaN   NaN  NaN  NaN   NaN    NaN   \n",
      "2018-10-02 18:33:52+00:00  6514.633716    NaN   NaN  NaN  NaN   NaN    NaN   \n",
      "2018-10-02 18:33:53+00:00  6514.588427    NaN   NaN  NaN  NaN   NaN    NaN   \n",
      "2018-10-02 18:33:54+00:00  6514.611676    NaN   NaN  NaN  NaN   NaN    NaN   \n",
      "\n",
      "                           timestamp timestamp_1  usdt_price        value  vol  \n",
      "2018-10-02 04:34:50+00:00        NaN         NaN         NaN  6575.653394  NaN  \n",
      "2018-10-02 04:34:51+00:00        NaN         NaN         NaN  6575.653394  NaN  \n",
      "2018-10-02 04:34:52+00:00        NaN         NaN         NaN  6575.480786  NaN  \n",
      "2018-10-02 04:34:53+00:00        NaN         NaN         NaN  6575.394646  NaN  \n",
      "2018-10-02 04:34:54+00:00        NaN         NaN         NaN  6575.351576  NaN  \n",
      "2018-10-02 04:34:55+00:00        NaN         NaN         NaN  6575.653394  NaN  \n",
      "2018-10-02 04:34:56+00:00        NaN         NaN         NaN  6575.653394  NaN  \n",
      "2018-10-02 04:34:57+00:00        NaN         NaN         NaN  6575.653394  NaN  \n",
      "2018-10-02 04:34:58+00:00        NaN         NaN         NaN  6575.653394  NaN  \n",
      "2018-10-02 04:34:59+00:00        NaN         NaN         NaN  6575.653394  NaN  \n",
      "2018-10-02 04:35:00+00:00        NaN         NaN         NaN  6575.653394  NaN  \n",
      "2018-10-02 04:35:01+00:00        NaN         NaN         NaN  6575.653394  NaN  \n",
      "2018-10-02 04:35:02+00:00        NaN         NaN         NaN  6575.653394  NaN  \n",
      "2018-10-02 04:35:03+00:00        NaN         NaN         NaN  6575.308361  NaN  \n",
      "2018-10-02 04:35:04+00:00        NaN         NaN         NaN  6575.308433  NaN  \n",
      "2018-10-02 04:35:05+00:00        NaN         NaN         NaN  6575.308433  NaN  \n",
      "2018-10-02 04:35:06+00:00        NaN         NaN         NaN  6575.308487  NaN  \n",
      "2018-10-02 04:35:07+00:00        NaN         NaN         NaN  6575.308501  NaN  \n",
      "2018-10-02 04:35:08+00:00        NaN         NaN         NaN  6575.483064  NaN  \n",
      "2018-10-02 04:35:09+00:00        NaN         NaN         NaN  6575.570346  NaN  \n",
      "2018-10-02 04:35:10+00:00        NaN         NaN         NaN  6575.615014  NaN  \n",
      "2018-10-02 04:35:11+00:00        NaN         NaN         NaN  6575.615014  NaN  \n",
      "2018-10-02 04:35:12+00:00        NaN         NaN         NaN  6575.615014  NaN  \n",
      "2018-10-02 04:35:13+00:00        NaN         NaN         NaN  6575.654098  NaN  \n",
      "2018-10-02 04:35:14+00:00        NaN         NaN         NaN  6575.654098  NaN  \n",
      "2018-10-02 04:35:16+00:00        NaN         NaN         NaN  6575.308469  NaN  \n",
      "2018-10-02 04:35:17+00:00        NaN         NaN         NaN  6575.308469  NaN  \n",
      "2018-10-02 04:35:18+00:00        NaN         NaN         NaN  6575.308469  NaN  \n",
      "2018-10-02 04:35:19+00:00        NaN         NaN         NaN  6575.308469  NaN  \n",
      "2018-10-02 04:35:20+00:00        NaN         NaN         NaN  6575.869933  NaN  \n",
      "...                              ...         ...         ...          ...  ...  \n",
      "2018-10-02 18:33:25+00:00        NaN         NaN         NaN  6514.611191  NaN  \n",
      "2018-10-02 18:33:26+00:00        NaN         NaN         NaN  6514.612369  NaN  \n",
      "2018-10-02 18:33:27+00:00        NaN         NaN         NaN  6514.612121  NaN  \n",
      "2018-10-02 18:33:28+00:00        NaN         NaN         NaN  6514.612121  NaN  \n",
      "2018-10-02 18:33:29+00:00        NaN         NaN         NaN  6514.612121  NaN  \n",
      "2018-10-02 18:33:30+00:00        NaN         NaN         NaN  6514.612392  NaN  \n",
      "2018-10-02 18:33:31+00:00        NaN         NaN         NaN  6514.612392  NaN  \n",
      "2018-10-02 18:33:32+00:00        NaN         NaN         NaN  6514.612275  NaN  \n",
      "2018-10-02 18:33:33+00:00        NaN         NaN         NaN  6514.612421  NaN  \n",
      "2018-10-02 18:33:34+00:00        NaN         NaN         NaN  6514.612425  NaN  \n",
      "2018-10-02 18:33:35+00:00        NaN         NaN         NaN  6514.612428  NaN  \n",
      "2018-10-02 18:33:36+00:00        NaN         NaN         NaN  6514.612429  NaN  \n",
      "2018-10-02 18:33:37+00:00        NaN         NaN         NaN  6514.612392  NaN  \n",
      "2018-10-02 18:33:38+00:00        NaN         NaN         NaN  6514.611937  NaN  \n",
      "2018-10-02 18:33:39+00:00        NaN         NaN         NaN  6514.611937  NaN  \n",
      "2018-10-02 18:33:40+00:00        NaN         NaN         NaN  6514.611937  NaN  \n",
      "2018-10-02 18:33:41+00:00        NaN         NaN         NaN  6514.612275  NaN  \n",
      "2018-10-02 18:33:42+00:00        NaN         NaN         NaN  6514.612307  NaN  \n",
      "2018-10-02 18:33:43+00:00        NaN         NaN         NaN  6514.612307  NaN  \n",
      "2018-10-02 18:33:44+00:00        NaN         NaN         NaN  6514.612307  NaN  \n",
      "2018-10-02 18:33:45+00:00        NaN         NaN         NaN  6514.612307  NaN  \n",
      "2018-10-02 18:33:46+00:00        NaN         NaN         NaN  6514.612053  NaN  \n",
      "2018-10-02 18:33:47+00:00        NaN         NaN         NaN  6514.611257  NaN  \n",
      "2018-10-02 18:33:48+00:00        NaN         NaN         NaN  6514.611676  NaN  \n",
      "2018-10-02 18:33:49+00:00        NaN         NaN         NaN  6514.611676  NaN  \n",
      "2018-10-02 18:33:50+00:00        NaN         NaN         NaN  6514.611676  NaN  \n",
      "2018-10-02 18:33:51+00:00        NaN         NaN         NaN  6514.633496  NaN  \n",
      "2018-10-02 18:33:52+00:00        NaN         NaN         NaN  6514.633716  NaN  \n",
      "2018-10-02 18:33:53+00:00        NaN         NaN         NaN  6514.588427  NaN  \n",
      "2018-10-02 18:33:54+00:00        NaN         NaN         NaN  6514.611676  NaN  \n",
      "\n",
      "[50000 rows x 12 columns]\n"
     ]
    }
   ],
   "source": [
    "print(b)"
   ]
  },
  {
   "cell_type": "code",
   "execution_count": null,
   "metadata": {},
   "outputs": [],
   "source": []
  }
 ],
 "metadata": {
  "kernelspec": {
   "display_name": "Python 3",
   "language": "python",
   "name": "python3"
  },
  "language_info": {
   "codemirror_mode": {
    "name": "ipython",
    "version": 3
   },
   "file_extension": ".py",
   "mimetype": "text/x-python",
   "name": "python",
   "nbconvert_exporter": "python",
   "pygments_lexer": "ipython3",
   "version": "3.7.0"
  }
 },
 "nbformat": 4,
 "nbformat_minor": 2
}
